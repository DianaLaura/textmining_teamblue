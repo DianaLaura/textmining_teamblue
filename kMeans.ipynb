{
 "cells": [
  {
   "cell_type": "code",
   "execution_count": 771,
   "metadata": {},
   "outputs": [],
   "source": [
    "import pandas as pd\n",
    "from sklearn.cluster import KMeans, MiniBatchKMeans\n",
    "from sklearn.pipeline import Pipeline\n",
    "from sklearn.feature_extraction.text import TfidfVectorizer, CountVectorizer\n",
    "from sklearn.metrics import adjusted_mutual_info_score\n",
    "import numpy as np\n",
    "\n",
    "\n",
    "\n",
    "import matplotlib.pyplot as plt\n",
    "from Selfwritten_sklearn_modules.AddSentWeights import AddSentWeights"
   ]
  },
  {
   "cell_type": "code",
   "execution_count": 814,
   "metadata": {},
   "outputs": [],
   "source": [
    "train = pd.read_csv(\"computer_subset_unannotated.csv\")\n",
    "sent_lex = pd.read_csv(\"WKWSCISentimentLexicon_v1.csv\", sep='\\t')"
   ]
  },
  {
   "cell_type": "code",
   "execution_count": 615,
   "metadata": {},
   "outputs": [
    {
     "data": {
      "text/html": [
       "<div>\n",
       "<style scoped>\n",
       "    .dataframe tbody tr th:only-of-type {\n",
       "        vertical-align: middle;\n",
       "    }\n",
       "\n",
       "    .dataframe tbody tr th {\n",
       "        vertical-align: top;\n",
       "    }\n",
       "\n",
       "    .dataframe thead th {\n",
       "        text-align: right;\n",
       "    }\n",
       "</style>\n",
       "<table border=\"1\" class=\"dataframe\">\n",
       "  <thead>\n",
       "    <tr style=\"text-align: right;\">\n",
       "      <th></th>\n",
       "      <th>Unnamed: 0</th>\n",
       "      <th>Unnamed: 0.1</th>\n",
       "      <th>Unnamed: 0.1.1</th>\n",
       "      <th>X</th>\n",
       "      <th>title</th>\n",
       "      <th>author</th>\n",
       "      <th>category</th>\n",
       "      <th>published_date</th>\n",
       "      <th>updated_on</th>\n",
       "      <th>slug</th>\n",
       "      <th>blurb</th>\n",
       "      <th>body</th>\n",
       "      <th>year</th>\n",
       "      <th>month</th>\n",
       "    </tr>\n",
       "  </thead>\n",
       "  <tbody>\n",
       "    <tr>\n",
       "      <th>0</th>\n",
       "      <td>739</td>\n",
       "      <td>739</td>\n",
       "      <td>740</td>\n",
       "      <td>16248</td>\n",
       "      <td>Watch 6,000 years of people moving to cities</td>\n",
       "      <td>Brian Resnick</td>\n",
       "      <td>The Latest</td>\n",
       "      <td>2016-06-19 13:20:03</td>\n",
       "      <td>2016-06-20 15:51:39</td>\n",
       "      <td>http://www.vox.com/2016/6/19/11955516/watch-60...</td>\n",
       "      <td>From the origin of the Fertile Crescent to the...</td>\n",
       "      <td>['Humans', 'have', 'been', 'building', 'and', ...</td>\n",
       "      <td>2016</td>\n",
       "      <td>2016-06</td>\n",
       "    </tr>\n",
       "    <tr>\n",
       "      <th>1</th>\n",
       "      <td>276</td>\n",
       "      <td>276</td>\n",
       "      <td>277</td>\n",
       "      <td>3754</td>\n",
       "      <td>Why Paranormal Activity was one of the most su...</td>\n",
       "      <td>Alex Abad-Santos</td>\n",
       "      <td>Culture</td>\n",
       "      <td>2015-01-02 16:30:02</td>\n",
       "      <td>2015-01-02 16:30:02</td>\n",
       "      <td>http://www.vox.com/2015/1/2/7470985/most-profi...</td>\n",
       "      <td>What ultimately matters is how much a movie ma...</td>\n",
       "      <td>['One', 'of', 'the', 'quickest', 'ways', 'to',...</td>\n",
       "      <td>2015</td>\n",
       "      <td>2015-01</td>\n",
       "    </tr>\n",
       "  </tbody>\n",
       "</table>\n",
       "</div>"
      ],
      "text/plain": [
       "   Unnamed: 0  Unnamed: 0.1  Unnamed: 0.1.1      X  \\\n",
       "0         739           739             740  16248   \n",
       "1         276           276             277   3754   \n",
       "\n",
       "                                               title            author  \\\n",
       "0       Watch 6,000 years of people moving to cities     Brian Resnick   \n",
       "1  Why Paranormal Activity was one of the most su...  Alex Abad-Santos   \n",
       "\n",
       "     category       published_date           updated_on  \\\n",
       "0  The Latest  2016-06-19 13:20:03  2016-06-20 15:51:39   \n",
       "1     Culture  2015-01-02 16:30:02  2015-01-02 16:30:02   \n",
       "\n",
       "                                                slug  \\\n",
       "0  http://www.vox.com/2016/6/19/11955516/watch-60...   \n",
       "1  http://www.vox.com/2015/1/2/7470985/most-profi...   \n",
       "\n",
       "                                               blurb  \\\n",
       "0  From the origin of the Fertile Crescent to the...   \n",
       "1  What ultimately matters is how much a movie ma...   \n",
       "\n",
       "                                                body  year    month  \n",
       "0  ['Humans', 'have', 'been', 'building', 'and', ...  2016  2016-06  \n",
       "1  ['One', 'of', 'the', 'quickest', 'ways', 'to',...  2015  2015-01  "
      ]
     },
     "execution_count": 615,
     "metadata": {},
     "output_type": "execute_result"
    }
   ],
   "source": [
    "train.head(2)"
   ]
  },
  {
   "cell_type": "code",
   "execution_count": 616,
   "metadata": {},
   "outputs": [
    {
     "data": {
      "text/html": [
       "<div>\n",
       "<style scoped>\n",
       "    .dataframe tbody tr th:only-of-type {\n",
       "        vertical-align: middle;\n",
       "    }\n",
       "\n",
       "    .dataframe tbody tr th {\n",
       "        vertical-align: top;\n",
       "    }\n",
       "\n",
       "    .dataframe thead th {\n",
       "        text-align: right;\n",
       "    }\n",
       "</style>\n",
       "<table border=\"1\" class=\"dataframe\">\n",
       "  <thead>\n",
       "    <tr style=\"text-align: right;\">\n",
       "      <th></th>\n",
       "      <th>sentiment</th>\n",
       "    </tr>\n",
       "  </thead>\n",
       "  <tbody>\n",
       "    <tr>\n",
       "      <th>count</th>\n",
       "      <td>29834.000000</td>\n",
       "    </tr>\n",
       "    <tr>\n",
       "      <th>mean</th>\n",
       "      <td>-0.182912</td>\n",
       "    </tr>\n",
       "    <tr>\n",
       "      <th>std</th>\n",
       "      <td>0.914229</td>\n",
       "    </tr>\n",
       "    <tr>\n",
       "      <th>min</th>\n",
       "      <td>-3.000000</td>\n",
       "    </tr>\n",
       "    <tr>\n",
       "      <th>25%</th>\n",
       "      <td>0.000000</td>\n",
       "    </tr>\n",
       "    <tr>\n",
       "      <th>50%</th>\n",
       "      <td>0.000000</td>\n",
       "    </tr>\n",
       "    <tr>\n",
       "      <th>75%</th>\n",
       "      <td>0.000000</td>\n",
       "    </tr>\n",
       "    <tr>\n",
       "      <th>max</th>\n",
       "      <td>3.000000</td>\n",
       "    </tr>\n",
       "  </tbody>\n",
       "</table>\n",
       "</div>"
      ],
      "text/plain": [
       "          sentiment\n",
       "count  29834.000000\n",
       "mean      -0.182912\n",
       "std        0.914229\n",
       "min       -3.000000\n",
       "25%        0.000000\n",
       "50%        0.000000\n",
       "75%        0.000000\n",
       "max        3.000000"
      ]
     },
     "execution_count": 616,
     "metadata": {},
     "output_type": "execute_result"
    }
   ],
   "source": [
    "sent_lex.describe()"
   ]
  },
  {
   "cell_type": "code",
   "execution_count": 619,
   "metadata": {},
   "outputs": [
    {
     "data": {
      "text/plain": [
       "array([-3., -2., -1.,  0.,  1.,  2.,  3.])"
      ]
     },
     "execution_count": 619,
     "metadata": {},
     "output_type": "execute_result"
    }
   ],
   "source": [
    "levels = np.asarray(sent_lex['sentiment'])\n",
    "np.unique(levels)"
   ]
  },
  {
   "cell_type": "code",
   "execution_count": 618,
   "metadata": {},
   "outputs": [],
   "source": [
    "train_x = train['body'] #extract the text\n",
    "\n",
    "sent_lex = sent_lex[['term','sentiment']] #drop the POS-column\n",
    "sent_lex = sent_lex.drop_duplicates('term')"
   ]
  },
  {
   "cell_type": "markdown",
   "metadata": {},
   "source": [
    "First approach is inspired by the one discussed in section 5 and 6 of this tutorial:\n",
    "https://towardsdatascience.com/unsupervised-sentiment-analysis-a38bf1906483\n",
    "\n",
    "I'll write a custom transformer to link sentiment weights and word counts together, so I'm first testing the idea on a small playset."
   ]
  },
  {
   "cell_type": "code",
   "execution_count": 604,
   "metadata": {},
   "outputs": [
    {
     "name": "stdout",
     "output_type": "stream",
     "text": [
      "(5, 28955)\n"
     ]
    }
   ],
   "source": [
    "playset = train_x.head(5)\n",
    "terms = sent_lex['term'].tolist()\n",
    "countvectorizer = CountVectorizer(vocabulary=terms)\n",
    "playset_transformed = countvectorizer.fit_transform(playset)\n",
    "sent_weights = AddSentWeights(sent_lex)\n",
    "weighted_sents = sent_weights.transform(playset_transformed)\n",
    "print(weighted_sents.shape)"
   ]
  },
  {
   "cell_type": "markdown",
   "metadata": {},
   "source": [
    "Minibatch KMeans: https://scikit-learn.org/stable/modules/generated/sklearn.cluster.MiniBatchKMeans.html#sklearn.cluster.MiniBatchKMeans \n",
    "\n",
    "This is a variant of KMeans that performs slightly worse than the normal KMeans, but is much faster.\n",
    "\n",
    "We want three clusters: One for positive texts, one for negative texts, and one for neutral texts."
   ]
  },
  {
   "cell_type": "code",
   "execution_count": 495,
   "metadata": {},
   "outputs": [],
   "source": [
    "#fit_transform bugs with this pipeline, but fit and transform can be called separately, so I load the classifier separately\n",
    "preprocessing = Pipeline([('counts', CountVectorizer(vocabulary=terms)),\n",
    "                        ('sent_weights', AddSentWeights(df=sent_lex)),\n",
    "                         ])\n",
    "                        \n",
    "minikmeans = MiniBatchKMeans(n_clusters = 3)"
   ]
  },
  {
   "cell_type": "code",
   "execution_count": 496,
   "metadata": {},
   "outputs": [
    {
     "data": {
      "text/plain": [
       "Pipeline(memory=None,\n",
       "         steps=[('counts',\n",
       "                 CountVectorizer(analyzer='word', binary=False,\n",
       "                                 decode_error='strict',\n",
       "                                 dtype=<class 'numpy.int64'>, encoding='utf-8',\n",
       "                                 input='content', lowercase=True, max_df=1.0,\n",
       "                                 max_features=None, min_df=1,\n",
       "                                 ngram_range=(1, 1), preprocessor=None,\n",
       "                                 stop_words=None, strip_accents=None,\n",
       "                                 token_pattern='(?u)\\\\b\\\\w\\\\w+\\\\b',\n",
       "                                 tokenizer=None,\n",
       "                                 vocabulary=[...\n",
       "                                             'abate', 'abatement', 'abattoir',\n",
       "                                             'abbess', 'abbey', 'abbot',\n",
       "                                             'abbr.', 'abbreviate',\n",
       "                                             'abbreviation', 'abdicate',\n",
       "                                             'abdication', 'abdomen',\n",
       "                                             'abdominal', ...])),\n",
       "                ('sent_weights',\n",
       "                 AddSentWeights(df=           term  sentiment\n",
       "0             a      0.001\n",
       "1          a.d.      0.001\n",
       "2        a.k.a.      0.001\n",
       "3          a.m.      0.001\n",
       "5      aardvark      0.001\n",
       "...         ...        ...\n",
       "29829   zoology      0.001\n",
       "29830      zoom      0.001\n",
       "29831  zucchini      0.001\n",
       "29832  zwieback      0.001\n",
       "29833    zygote      0.001\n",
       "\n",
       "[28955 rows x 2 columns]))],\n",
       "         verbose=False)"
      ]
     },
     "execution_count": 496,
     "metadata": {},
     "output_type": "execute_result"
    }
   ],
   "source": [
    "preprocessing.fit(train_x)"
   ]
  },
  {
   "cell_type": "code",
   "execution_count": 497,
   "metadata": {},
   "outputs": [],
   "source": [
    "transformed_train_x = preprocessing.transform(train_x)"
   ]
  },
  {
   "cell_type": "code",
   "execution_count": 498,
   "metadata": {},
   "outputs": [],
   "source": [
    "cluster = minikmeans.fit_predict(transformed_train_x)"
   ]
  },
  {
   "cell_type": "code",
   "execution_count": 499,
   "metadata": {},
   "outputs": [],
   "source": [
    "samples = minikmeans.transform(transformed_train_x)\n",
    "cluster = cluster.reshape(1023,1)\n",
    "\n",
    "samples_rescaled = np.multiply(cluster + 1, samples)"
   ]
  },
  {
   "cell_type": "code",
   "execution_count": 501,
   "metadata": {},
   "outputs": [
    {
     "data": {
      "text/plain": [
       "<matplotlib.collections.PathCollection at 0x12b223f90>"
      ]
     },
     "execution_count": 501,
     "metadata": {},
     "output_type": "execute_result"
    },
    {
     "data": {
      "image/png": "[encoded data removed]",
      "text/plain": [
       "<Figure size 432x288 with 1 Axes>"
      ]
     },
     "metadata": {
      "needs_background": "light"
     },
     "output_type": "display_data"
    }
   ],
   "source": [
    "plt.scatter(samples_rescaled[:,0], samples_rescaled[:,1], c=cluster)"
   ]
  },
  {
   "cell_type": "markdown",
   "metadata": {},
   "source": [
    "Ok, the algorithm seemed to have worked, but not very well. There is a large group around the (0,4.5)-point. Let's play around with the reassignment ratio."
   ]
  },
  {
   "cell_type": "code",
   "execution_count": 502,
   "metadata": {},
   "outputs": [],
   "source": [
    "minikmeans = MiniBatchKMeans(n_clusters = 3, reassignment_ratio = 0.9)"
   ]
  },
  {
   "cell_type": "code",
   "execution_count": 503,
   "metadata": {},
   "outputs": [],
   "source": [
    "cluster = minikmeans.fit_predict(transformed_train_x)"
   ]
  },
  {
   "cell_type": "code",
   "execution_count": 506,
   "metadata": {},
   "outputs": [],
   "source": [
    "samples = minikmeans.transform(transformed_train_x)\n",
    "cluster = cluster.reshape(1023,1)\n",
    "\n",
    "samples_rescaled = np.multiply(cluster + 1, samples)"
   ]
  },
  {
   "cell_type": "code",
   "execution_count": 507,
   "metadata": {
    "scrolled": true
   },
   "outputs": [
    {
     "data": {
      "text/plain": [
       "<matplotlib.collections.PathCollection at 0x12b96df50>"
      ]
     },
     "execution_count": 507,
     "metadata": {},
     "output_type": "execute_result"
    },
    {
     "data": {
      "image/png": "[encoded data removed]",
      "text/plain": [
       "<Figure size 432x288 with 1 Axes>"
      ]
     },
     "metadata": {
      "needs_background": "light"
     },
     "output_type": "display_data"
    }
   ],
   "source": [
    "plt.scatter(samples_rescaled[:,0], samples_rescaled[:,1], c=cluster)"
   ]
  },
  {
   "cell_type": "markdown",
   "metadata": {},
   "source": [
    "Let's try TfidfVectorizer instead of CountVectorizer"
   ]
  },
  {
   "cell_type": "code",
   "execution_count": 798,
   "metadata": {},
   "outputs": [],
   "source": [
    "preprocessing = Pipeline([('counts', TfidfVectorizer(vocabulary=terms)),\n",
    "                        ('sent_weights', AddSentWeights(df=sent_lex)),\n",
    "                         ])\n",
    "                        "
   ]
  },
  {
   "cell_type": "code",
   "execution_count": 799,
   "metadata": {},
   "outputs": [],
   "source": [
    "preprocessing.fit(train_x)\n",
    "\n",
    "transformed_train_x = preprocessing.transform(train_x)"
   ]
  },
  {
   "cell_type": "code",
   "execution_count": 800,
   "metadata": {},
   "outputs": [],
   "source": [
    "minikmeans = MiniBatchKMeans(n_clusters = 3, reassignment_ratio = 0.9)"
   ]
  },
  {
   "cell_type": "code",
   "execution_count": 801,
   "metadata": {},
   "outputs": [],
   "source": [
    "cluster = minikmeans.fit_predict(transformed_train_x)"
   ]
  },
  {
   "cell_type": "code",
   "execution_count": 803,
   "metadata": {},
   "outputs": [],
   "source": [
    "samples = minikmeans.transform(transformed_train_x)\n",
    "cluster = cluster.reshape(1023,1)\n",
    "\n",
    "samples_rescaled = np.multiply(cluster + 1, samples)"
   ]
  },
  {
   "cell_type": "code",
   "execution_count": 804,
   "metadata": {},
   "outputs": [
    {
     "data": {
      "text/plain": [
       "<matplotlib.collections.PathCollection at 0x12c5eba10>"
      ]
     },
     "execution_count": 804,
     "metadata": {},
     "output_type": "execute_result"
    },
    {
     "data": {
      "image/png": "[encoded data removed]",
      "text/plain": [
       "<Figure size 432x288 with 1 Axes>"
      ]
     },
     "metadata": {
      "needs_background": "light"
     },
     "output_type": "display_data"
    }
   ],
   "source": [
    "plt.scatter(samples_rescaled[:,0], samples_rescaled[:,1], c=cluster)"
   ]
  },
  {
   "cell_type": "markdown",
   "metadata": {},
   "source": [
    "That doesn't seem to work as good as the last model. Therefore, I evaluate the following model:"
   ]
  },
  {
   "cell_type": "code",
   "execution_count": 805,
   "metadata": {},
   "outputs": [
    {
     "data": {
      "text/plain": [
       "<matplotlib.collections.PathCollection at 0x12c24ac10>"
      ]
     },
     "execution_count": 805,
     "metadata": {},
     "output_type": "execute_result"
    },
    {
     "data": {
      "image/png": "[encoded data removed]",
      "text/plain": [
       "<Figure size 432x288 with 1 Axes>"
      ]
     },
     "metadata": {
      "needs_background": "light"
     },
     "output_type": "display_data"
    }
   ],
   "source": [
    "preprocessing = Pipeline([('counts', CountVectorizer(vocabulary=terms)),\n",
    "                        ('sent_weights', AddSentWeights(df=sent_lex)),\n",
    "                         ])\n",
    "                        \n",
    "minikmeans = MiniBatchKMeans(n_clusters = 3, reassignment_ratio=0.9)\n",
    "preprocessing.fit(train_x)\n",
    "transformed_train_x = preprocessing.transform(train_x)\n",
    "cluster = minikmeans.fit_predict(transformed_train_x)\n",
    "\n",
    "samples = minikmeans.transform(transformed_train_x)\n",
    "cluster = cluster.reshape(1023,1)\n",
    "\n",
    "samples_rescaled = np.multiply(cluster + 1, samples)\n",
    "\n",
    "\n",
    "plt.scatter(samples_rescaled[:,0], samples_rescaled[:,1], c=cluster)"
   ]
  },
  {
   "cell_type": "markdown",
   "metadata": {},
   "source": [
    "**Evaluation**\n",
    "\n",
    "Adjusted Mutual Information score according to https://scikit-learn.org/stable/modules/clustering.html#clustering-performance-evaluation\n",
    "\n",
    "- score ranges from 0 to 1\n",
    "\n",
    "1: kmeans and our annotations agree significantly\n",
    "\n",
    "0: kmeans and we disagree strongly on this label\n"
   ]
  },
  {
   "cell_type": "code",
   "execution_count": 836,
   "metadata": {},
   "outputs": [],
   "source": [
    "diana = pd.read_csv('computer_subset_annotate_diana.csv')"
   ]
  },
  {
   "cell_type": "code",
   "execution_count": 837,
   "metadata": {},
   "outputs": [],
   "source": [
    "edward = pd.read_csv('computer_subset_annotate_edward.csv',sep=';')"
   ]
  },
  {
   "cell_type": "code",
   "execution_count": 857,
   "metadata": {},
   "outputs": [],
   "source": [
    "diana = diana.dropna()\n",
    "diana_x = diana['body']\n",
    "diana_y = diana['sentiment']\n",
    "\n",
    "edward = edward.dropna()\n",
    "edward_x = edward['body']\n",
    "edward_y = edward['sentiment']"
   ]
  },
  {
   "cell_type": "code",
   "execution_count": 858,
   "metadata": {},
   "outputs": [
    {
     "data": {
      "text/plain": [
       "58"
      ]
     },
     "execution_count": 858,
     "metadata": {},
     "output_type": "execute_result"
    }
   ],
   "source": [
    "len(edward)"
   ]
  },
  {
   "cell_type": "code",
   "execution_count": 859,
   "metadata": {},
   "outputs": [
    {
     "data": {
      "text/plain": [
       "60"
      ]
     },
     "execution_count": 859,
     "metadata": {},
     "output_type": "execute_result"
    }
   ],
   "source": [
    "len(diana_y)"
   ]
  },
  {
   "cell_type": "code",
   "execution_count": 860,
   "metadata": {},
   "outputs": [],
   "source": [
    "labels = cluster.reshape(1,1023)"
   ]
  },
  {
   "cell_type": "code",
   "execution_count": 812,
   "metadata": {},
   "outputs": [
    {
     "data": {
      "text/plain": [
       "array([0, 1, 2], dtype=int32)"
      ]
     },
     "execution_count": 812,
     "metadata": {},
     "output_type": "execute_result"
    }
   ],
   "source": [
    "np.unique(labels)"
   ]
  },
  {
   "cell_type": "markdown",
   "metadata": {},
   "source": [
    "Finding out which label belongs to which sentiment by clustering positive, and negative words from the sentiment lexikon:"
   ]
  },
  {
   "cell_type": "code",
   "execution_count": 815,
   "metadata": {},
   "outputs": [
    {
     "data": {
      "text/plain": [
       "array([-3., -2., -1.,  0.,  1.,  2.,  3.])"
      ]
     },
     "execution_count": 815,
     "metadata": {},
     "output_type": "execute_result"
    }
   ],
   "source": [
    "levels = np.asarray(sent_lex['sentiment'])\n",
    "np.unique(levels)"
   ]
  },
  {
   "cell_type": "code",
   "execution_count": 816,
   "metadata": {},
   "outputs": [],
   "source": [
    "pos_sent = sent_lex[sent_lex.sentiment == 3].dropna()\n",
    "neut_sent = sent_lex[sent_lex.sentiment == 0].dropna()\n",
    "neg_sent = sent_lex[sent_lex.sentiment == -3].dropna()"
   ]
  },
  {
   "cell_type": "code",
   "execution_count": 817,
   "metadata": {},
   "outputs": [],
   "source": [
    "pos_sent['term'] = (pos_sent.term + ',') * 1000\n",
    "\n",
    "neut_sent['term'] = (neut_sent.term + ',') * 1000\n",
    "\n",
    "neg_sent['term'] = (neg_sent.term + ',') * 1000"
   ]
  },
  {
   "cell_type": "code",
   "execution_count": 831,
   "metadata": {},
   "outputs": [],
   "source": [
    "pos_sent_x = preprocessing.transform(pos_sent['term'].dropna())\n",
    "pos_sent_label = minikmeans.predict(pos_sent_x)\n",
    "\n",
    "neut_sent_x = preprocessing.transform(neut_sent['term'].dropna())\n",
    "neut_sent_label = minikmeans.predict(neut_sent_x)\n",
    "\n",
    "neg_sent_x = preprocessing.transform(neg_sent['term'].dropna())\n",
    "neg_sent_label = minikmeans.predict(neg_sent_x)"
   ]
  },
  {
   "cell_type": "code",
   "execution_count": 832,
   "metadata": {},
   "outputs": [
    {
     "data": {
      "text/plain": [
       "(array([0, 2], dtype=int32), array([69,  1]))"
      ]
     },
     "execution_count": 832,
     "metadata": {},
     "output_type": "execute_result"
    }
   ],
   "source": [
    "np.unique(neg_sent_label, return_counts=True)"
   ]
  },
  {
   "cell_type": "code",
   "execution_count": 823,
   "metadata": {},
   "outputs": [
    {
     "data": {
      "text/plain": [
       "(array([0, 1, 2], dtype=int32), array([99,  1, 15]))"
      ]
     },
     "execution_count": 823,
     "metadata": {},
     "output_type": "execute_result"
    }
   ],
   "source": [
    "np.unique(pos_sent_label, return_counts=True)"
   ]
  },
  {
   "cell_type": "code",
   "execution_count": 824,
   "metadata": {},
   "outputs": [
    {
     "data": {
      "text/plain": [
       "(array([0, 1, 2], dtype=int32), array([19370,     3,    24]))"
      ]
     },
     "execution_count": 824,
     "metadata": {},
     "output_type": "execute_result"
    }
   ],
   "source": [
    "np.unique(neut_sent_label, return_counts=True)"
   ]
  },
  {
   "cell_type": "markdown",
   "metadata": {},
   "source": [
    "According to the results: 0=negative, 2=neutral, 1=positive)"
   ]
  },
  {
   "cell_type": "code",
   "execution_count": 862,
   "metadata": {},
   "outputs": [
    {
     "name": "stderr",
     "output_type": "stream",
     "text": [
      "/Users/dianaenggist/Library/Python/3.7/lib/python/site-packages/ipykernel_launcher.py:6: SettingWithCopyWarning: \n",
      "A value is trying to be set on a copy of a slice from a DataFrame\n",
      "\n",
      "See the caveats in the documentation: https://pandas.pydata.org/pandas-docs/stable/user_guide/indexing.html#returning-a-view-versus-a-copy\n",
      "  \n"
     ]
    }
   ],
   "source": [
    "for i in range(0,len(edward_y) + 2): #He has some NAs in his data frame\n",
    "    try:\n",
    "        if edward_y[i] == 'negative':\n",
    "            edward_y[i] = 0\n",
    "        elif edward_y[i] == 'neutral':\n",
    "            edward_y[i] = 2\n",
    "        elif edward_y[i] == 'positive':\n",
    "            edward_y[i] = 1\n",
    "    except KeyError:\n",
    "        \n",
    "        continue"
   ]
  },
  {
   "cell_type": "code",
   "execution_count": 842,
   "metadata": {},
   "outputs": [
    {
     "data": {
      "text/plain": [
       "58"
      ]
     },
     "execution_count": 842,
     "metadata": {},
     "output_type": "execute_result"
    }
   ],
   "source": [
    "len(edward_y)"
   ]
  },
  {
   "cell_type": "code",
   "execution_count": 843,
   "metadata": {},
   "outputs": [
    {
     "name": "stderr",
     "output_type": "stream",
     "text": [
      "/Users/dianaenggist/Library/Python/3.7/lib/python/site-packages/ipykernel_launcher.py:5: SettingWithCopyWarning: \n",
      "A value is trying to be set on a copy of a slice from a DataFrame\n",
      "\n",
      "See the caveats in the documentation: https://pandas.pydata.org/pandas-docs/stable/user_guide/indexing.html#returning-a-view-versus-a-copy\n",
      "  \"\"\"\n",
      "/Users/dianaenggist/Library/Python/3.7/lib/python/site-packages/ipykernel_launcher.py:7: SettingWithCopyWarning: \n",
      "A value is trying to be set on a copy of a slice from a DataFrame\n",
      "\n",
      "See the caveats in the documentation: https://pandas.pydata.org/pandas-docs/stable/user_guide/indexing.html#returning-a-view-versus-a-copy\n",
      "  import sys\n",
      "/Users/dianaenggist/Library/Python/3.7/lib/python/site-packages/ipykernel_launcher.py:3: SettingWithCopyWarning: \n",
      "A value is trying to be set on a copy of a slice from a DataFrame\n",
      "\n",
      "See the caveats in the documentation: https://pandas.pydata.org/pandas-docs/stable/user_guide/indexing.html#returning-a-view-versus-a-copy\n",
      "  This is separate from the ipykernel package so we can avoid doing imports until\n"
     ]
    }
   ],
   "source": [
    "for i in range(0,len(diana_y)):\n",
    "    if diana_y[i] == 'negative':\n",
    "        diana_y[i] = 0\n",
    "    elif diana_y[i] == 'neutral':\n",
    "        diana_y[i] = 2\n",
    "    elif diana_y[i] == 'positive':\n",
    "        diana_y[i] = 1"
   ]
  },
  {
   "cell_type": "code",
   "execution_count": 844,
   "metadata": {},
   "outputs": [],
   "source": [
    "diana_x = preprocessing.transform(diana_x)\n",
    "edward_x = preprocessing.transform(edward_x)"
   ]
  },
  {
   "cell_type": "code",
   "execution_count": 845,
   "metadata": {},
   "outputs": [],
   "source": [
    "diana_labels = minikmeans.predict(diana_x)"
   ]
  },
  {
   "cell_type": "code",
   "execution_count": 846,
   "metadata": {},
   "outputs": [],
   "source": [
    "edward_labels = minikmeans.predict(edward_x)"
   ]
  },
  {
   "cell_type": "code",
   "execution_count": 851,
   "metadata": {},
   "outputs": [],
   "source": [
    "diana_y = diana_y.astype(int)\n",
    "ami_diana = adjusted_mutual_info_score(diana_y, diana_labels)"
   ]
  },
  {
   "cell_type": "code",
   "execution_count": 852,
   "metadata": {},
   "outputs": [
    {
     "name": "stdout",
     "output_type": "stream",
     "text": [
      "-0.005688353498231638\n"
     ]
    }
   ],
   "source": [
    "print(ami_diana)"
   ]
  },
  {
   "cell_type": "code",
   "execution_count": 864,
   "metadata": {},
   "outputs": [],
   "source": [
    "edward_y = edward_y.astype(int)\n",
    "ami_edward = adjusted_mutual_info_score(edward_y, edward_labels)"
   ]
  },
  {
   "cell_type": "code",
   "execution_count": 865,
   "metadata": {},
   "outputs": [
    {
     "name": "stdout",
     "output_type": "stream",
     "text": [
      "-1.828408844426632e-15\n"
     ]
    }
   ],
   "source": [
    "print(ami_edward)"
   ]
  },
  {
   "cell_type": "markdown",
   "metadata": {},
   "source": [
    "**Distribution over time**"
   ]
  },
  {
   "cell_type": "code",
   "execution_count": 884,
   "metadata": {},
   "outputs": [],
   "source": [
    "date = train['month']\n",
    "\n",
    "cluster_df = pd.DataFrame(cluster.reshape(1023,1))\n",
    "\n",
    "df_time_matrix = pd.merge(train['month'], cluster_df, left_index=True, right_index=True)\n"
   ]
  },
  {
   "cell_type": "code",
   "execution_count": 895,
   "metadata": {},
   "outputs": [],
   "source": [
    "#I drop this to a .csv-file, and plot it in R\n",
    "df_time_matrix.to_csv('time_matrix.csv')"
   ]
  },
  {
   "cell_type": "code",
   "execution_count": null,
   "metadata": {},
   "outputs": [],
   "source": []
  }
 ],
 "metadata": {
  "kernelspec": {
   "display_name": "Python 3.7.7 64-bit",
   "language": "python",
   "name": "python37764bitb683183fb75b4e14be8d676f44524cdb"
  },
  "language_info": {
   "codemirror_mode": {
    "name": "ipython",
    "version": 3
   },
   "file_extension": ".py",
   "mimetype": "text/x-python",
   "name": "python",
   "nbconvert_exporter": "python",
   "pygments_lexer": "ipython3",
   "version": "3.7.7"
  }
 },
 "nbformat": 4,
 "nbformat_minor": 4
}
