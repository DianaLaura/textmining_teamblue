{
 "cells": [
  {
   "cell_type": "markdown",
   "metadata": {},
   "source": [
    "**Gist:**\n",
    "\n",
    "* There are 23023 articles in the data set with an average length of 1066 tokens\n",
    "* from these articles, 89 contain the words \"AI\", \"A.I.\", \"Artificial Intelligence\", \"Machine Learning\", \"Deep Learning\" or \"Neural Network\". Therefore, we included articles containing the words 'Computer' and 'Algorithm'. This results in 1133 articles that contain at least one of these words.\n",
    "* The average length of the articles in the subset is 1749 tokens"
   ]
  },
  {
   "cell_type": "code",
   "execution_count": 5,
   "metadata": {},
   "outputs": [
    {
     "name": "stderr",
     "output_type": "stream",
     "text": [
      "\n",
      "Attaching package: ‘dplyr’\n",
      "\n",
      "The following objects are masked from ‘package:stats’:\n",
      "\n",
      "    filter, lag\n",
      "\n",
      "The following objects are masked from ‘package:base’:\n",
      "\n",
      "    intersect, setdiff, setequal, union\n",
      "\n",
      "Registered S3 methods overwritten by 'ggplot2':\n",
      "  method         from \n",
      "  [.quosures     rlang\n",
      "  c.quosures     rlang\n",
      "  print.quosures rlang\n"
     ]
    }
   ],
   "source": [
    "library(dplyr)\n",
    "library(tidyr)\n",
    "library(ggplot2)\n",
    "library(stringr)"
   ]
  },
  {
   "cell_type": "code",
   "execution_count": 6,
   "metadata": {},
   "outputs": [
    {
     "name": "stderr",
     "output_type": "stream",
     "text": [
      "Warning message in scan(file = file, what = what, sep = sep, quote = quote, dec = dec, :\n",
      "“EOF in Zeichenkette”"
     ]
    }
   ],
   "source": [
    "articles <- read.csv('dsjVoxArticles.tsv', sep=\"\\t\", row.names=NULL)"
   ]
  },
  {
   "cell_type": "code",
   "execution_count": 7,
   "metadata": {},
   "outputs": [],
   "source": [
    "#head(articles)"
   ]
  },
  {
   "cell_type": "code",
   "execution_count": 8,
   "metadata": {},
   "outputs": [],
   "source": [
    "#summary(articles)"
   ]
  },
  {
   "cell_type": "code",
   "execution_count": 9,
   "metadata": {},
   "outputs": [
    {
     "data": {
      "text/html": [
       "10617"
      ],
      "text/latex": [
       "10617"
      ],
      "text/markdown": [
       "10617"
      ],
      "text/plain": [
       "[1] 10617"
      ]
     },
     "metadata": {},
     "output_type": "display_data"
    }
   ],
   "source": [
    "nrow(articles)"
   ]
  },
  {
   "cell_type": "markdown",
   "metadata": {},
   "source": [
    "The summary shows that the articles in the data frames still contain html-tags, so I scrape them first. While scraping them, a few rows threw type errors. I catched the errors, and saved the texts that threw type errors in a separate tsv-file.\n",
    "\n",
    "First, I look at the files that could be scraped succesfully:"
   ]
  },
  {
   "cell_type": "code",
   "execution_count": 10,
   "metadata": {},
   "outputs": [],
   "source": [
    "articles_scraped <- read.csv('dsjVoxArticles_scraped.tsv', sep=\"\\t\", row.names=NULL)"
   ]
  },
  {
   "cell_type": "code",
   "execution_count": 11,
   "metadata": {},
   "outputs": [
    {
     "data": {
      "text/html": [
       "23024"
      ],
      "text/latex": [
       "23024"
      ],
      "text/markdown": [
       "23024"
      ],
      "text/plain": [
       "[1] 23024"
      ]
     },
     "metadata": {},
     "output_type": "display_data"
    }
   ],
   "source": [
    "nrow(articles_scraped)"
   ]
  },
  {
   "cell_type": "code",
   "execution_count": 12,
   "metadata": {},
   "outputs": [],
   "source": [
    "error_articles <- read.csv('errors_dsjVoxArticles_scraped.tsv', sep=\"\\t\", row.names=NULL)"
   ]
  },
  {
   "cell_type": "code",
   "execution_count": 13,
   "metadata": {},
   "outputs": [
    {
     "data": {
      "text/html": [
       "23024"
      ],
      "text/latex": [
       "23024"
      ],
      "text/markdown": [
       "23024"
      ],
      "text/plain": [
       "[1] 23024"
      ]
     },
     "metadata": {},
     "output_type": "display_data"
    }
   ],
   "source": [
    "nrow(error_articles)"
   ]
  },
  {
   "cell_type": "markdown",
   "metadata": {},
   "source": [
    "There are two interesting observations:\n",
    "\n",
    "1. The dataframe with erraneous files contains as many rows than the dataframe without the erraneous files\n",
    "\n",
    "2. The dataframe without preprocessing contains less rows than the preprocessed dataframes, and throws an error that says \"EOF in String\"\n",
    "\n",
    "I checked the downloaded .tsv file, and it contains indeed 23023 rows, as much as the preprocessed files. Therefore, the original frame contained a string that broke the loading process, and this string was filtered out during scraping. So this problem is solved, and it does not make sense to investigate it further.\n",
    "\n",
    "It also seems that each file threw a type error while scraping, hence the doubling of the texts in the data frame. The type error was something about float and integer. I don't think that this error affects the work later, so I just use the file with the scraped articles for the data analysis."
   ]
  },
  {
   "cell_type": "code",
   "execution_count": 14,
   "metadata": {},
   "outputs": [],
   "source": [
    "#summary(articles_scraped)"
   ]
  },
  {
   "cell_type": "markdown",
   "metadata": {},
   "source": [
    "The summary shows that all the html-tags are gone (as intended), but the substring '\\\\n' occurs often in the article. This is a substring that can be filtered out later, probably in the tokenization step.\n",
    "\n",
    "Now I calculate the average length of the articles:"
   ]
  },
  {
   "cell_type": "code",
   "execution_count": 15,
   "metadata": {},
   "outputs": [],
   "source": [
    "articles_scraped['length'] <- str_count(articles_scraped$body, pattern = \" \")"
   ]
  },
  {
   "cell_type": "code",
   "execution_count": 16,
   "metadata": {},
   "outputs": [],
   "source": [
    "#summary(articles_scraped)"
   ]
  },
  {
   "cell_type": "markdown",
   "metadata": {},
   "source": [
    "The average length of the articles is 1066 tokens.\n",
    "\n",
    "The next step is to find out how many of these texts contain the words \"Artificial Intelligence\" or \"AI\". For this, I will search for matches with str_detect and regex."
   ]
  },
  {
   "cell_type": "code",
   "execution_count": 17,
   "metadata": {},
   "outputs": [],
   "source": [
    "ai_data <- select(articles_scraped, everything())%>%\n",
    "    filter(str_detect(articles_scraped$body,' AI '))\n",
    "\n",
    "artificial_int_data <- select(articles_scraped, everything())%>%\n",
    "    filter(str_detect(articles_scraped$body,' artificial intelligence '))\n",
    "\n",
    "a_i_data <- select(articles_scraped, everything())%>%\n",
    "    filter(str_detect(articles_scraped$body,' A\\\\.I\\\\. '))\n",
    "\n",
    "art_int_upper <- select(articles_scraped, everything())%>%\n",
    "    filter(str_detect(articles_scraped$body,' Artificial Intelligence '))\n"
   ]
  },
  {
   "cell_type": "code",
   "execution_count": 18,
   "metadata": {},
   "outputs": [
    {
     "data": {
      "text/html": [
       "49"
      ],
      "text/latex": [
       "49"
      ],
      "text/markdown": [
       "49"
      ],
      "text/plain": [
       "[1] 49"
      ]
     },
     "metadata": {},
     "output_type": "display_data"
    }
   ],
   "source": [
    "nrow(ai_data)"
   ]
  },
  {
   "cell_type": "code",
   "execution_count": 19,
   "metadata": {},
   "outputs": [
    {
     "data": {
      "text/html": [
       "50"
      ],
      "text/latex": [
       "50"
      ],
      "text/markdown": [
       "50"
      ],
      "text/plain": [
       "[1] 50"
      ]
     },
     "metadata": {},
     "output_type": "display_data"
    }
   ],
   "source": [
    "nrow(artificial_int_data)"
   ]
  },
  {
   "cell_type": "code",
   "execution_count": 20,
   "metadata": {},
   "outputs": [
    {
     "data": {
      "text/html": [
       "6"
      ],
      "text/latex": [
       "6"
      ],
      "text/markdown": [
       "6"
      ],
      "text/plain": [
       "[1] 6"
      ]
     },
     "metadata": {},
     "output_type": "display_data"
    }
   ],
   "source": [
    "nrow(a_i_data)"
   ]
  },
  {
   "cell_type": "code",
   "execution_count": 21,
   "metadata": {},
   "outputs": [
    {
     "data": {
      "text/html": [
       "3"
      ],
      "text/latex": [
       "3"
      ],
      "text/markdown": [
       "3"
      ],
      "text/plain": [
       "[1] 3"
      ]
     },
     "metadata": {},
     "output_type": "display_data"
    }
   ],
   "source": [
    "nrow(art_int_upper)"
   ]
  },
  {
   "cell_type": "code",
   "execution_count": 22,
   "metadata": {},
   "outputs": [],
   "source": [
    "ai_all <- bind_rows(ai_data, artificial_int_data, a_i_data, art_int_upper)\n",
    "    "
   ]
  },
  {
   "cell_type": "code",
   "execution_count": 23,
   "metadata": {},
   "outputs": [
    {
     "data": {
      "text/html": [
       "108"
      ],
      "text/latex": [
       "108"
      ],
      "text/markdown": [
       "108"
      ],
      "text/plain": [
       "[1] 108"
      ]
     },
     "metadata": {},
     "output_type": "display_data"
    }
   ],
   "source": [
    "nrow(ai_all)"
   ]
  },
  {
   "cell_type": "code",
   "execution_count": 24,
   "metadata": {},
   "outputs": [
    {
     "data": {
      "text/html": [
       "82"
      ],
      "text/latex": [
       "82"
      ],
      "text/markdown": [
       "82"
      ],
      "text/plain": [
       "[1] 82"
      ]
     },
     "metadata": {},
     "output_type": "display_data"
    }
   ],
   "source": [
    "ai_all = distinct(ai_all)\n",
    "\n",
    "nrow(ai_all)"
   ]
  },
  {
   "cell_type": "markdown",
   "metadata": {},
   "source": [
    "82 articles are somehow related to Artificial Intelligence. To broaden the corpus a bit, I will look up if there are any articles that contain the words \"Machine Learning\", \"Neural Networks\", and \"Deep Learning\"."
   ]
  },
  {
   "cell_type": "code",
   "execution_count": 25,
   "metadata": {},
   "outputs": [
    {
     "data": {
      "text/html": [
       "23"
      ],
      "text/latex": [
       "23"
      ],
      "text/markdown": [
       "23"
      ],
      "text/plain": [
       "[1] 23"
      ]
     },
     "metadata": {},
     "output_type": "display_data"
    }
   ],
   "source": [
    "ml_data <- select(articles_scraped, everything())%>%\n",
    "    filter(str_detect(articles_scraped$body,regex('machine learning', ignore_case = T)))\n",
    "\n",
    "nrow(ml_data)"
   ]
  },
  {
   "cell_type": "code",
   "execution_count": 26,
   "metadata": {
    "scrolled": true
   },
   "outputs": [
    {
     "data": {
      "text/html": [
       "10"
      ],
      "text/latex": [
       "10"
      ],
      "text/markdown": [
       "10"
      ],
      "text/plain": [
       "[1] 10"
      ]
     },
     "metadata": {},
     "output_type": "display_data"
    }
   ],
   "source": [
    "nn_data <- select(articles_scraped, everything())%>%\n",
    "    filter(str_detect(articles_scraped$body,regex('neural network', ignore_case = T)))\n",
    "\n",
    "nrow(nn_data)"
   ]
  },
  {
   "cell_type": "code",
   "execution_count": 27,
   "metadata": {
    "scrolled": true
   },
   "outputs": [
    {
     "data": {
      "text/html": [
       "4"
      ],
      "text/latex": [
       "4"
      ],
      "text/markdown": [
       "4"
      ],
      "text/plain": [
       "[1] 4"
      ]
     },
     "metadata": {},
     "output_type": "display_data"
    }
   ],
   "source": [
    "deep_learning <- select(articles_scraped, everything())%>%\n",
    "    filter(str_detect(articles_scraped$body,regex('deep learning', ignore_case = T)))\n",
    "\n",
    "nrow(deep_learning)"
   ]
  },
  {
   "cell_type": "code",
   "execution_count": 28,
   "metadata": {},
   "outputs": [
    {
     "data": {
      "text/html": [
       "98"
      ],
      "text/latex": [
       "98"
      ],
      "text/markdown": [
       "98"
      ],
      "text/plain": [
       "[1] 98"
      ]
     },
     "metadata": {},
     "output_type": "display_data"
    }
   ],
   "source": [
    "ai_all = bind_rows(ai_all, ml_data, nn_data, deep_learning)\n",
    "\n",
    "ai_all = distinct(ai_all)\n",
    "\n",
    "nrow(ai_all)"
   ]
  },
  {
   "cell_type": "markdown",
   "metadata": {},
   "source": [
    "We now have sampled 98 articles that are somehow related to machine learning/AI. We have to broaden the range of words we search after because this are to less articles for this task.\n"
   ]
  },
  {
   "cell_type": "code",
   "execution_count": 29,
   "metadata": {},
   "outputs": [
    {
     "data": {
      "text/html": [
       "964"
      ],
      "text/latex": [
       "964"
      ],
      "text/markdown": [
       "964"
      ],
      "text/plain": [
       "[1] 964"
      ]
     },
     "metadata": {},
     "output_type": "display_data"
    }
   ],
   "source": [
    "computer_data <- select(articles_scraped, everything())%>%\n",
    "    filter(str_detect(articles_scraped$body,regex('computer', ignore_case = T)))\n",
    "\n",
    "nrow(computer_data)"
   ]
  },
  {
   "cell_type": "code",
   "execution_count": 30,
   "metadata": {
    "scrolled": true
   },
   "outputs": [
    {
     "data": {
      "text/html": [
       "177"
      ],
      "text/latex": [
       "177"
      ],
      "text/markdown": [
       "177"
      ],
      "text/plain": [
       "[1] 177"
      ]
     },
     "metadata": {},
     "output_type": "display_data"
    }
   ],
   "source": [
    "algorithm_data <- select(articles_scraped, everything())%>%\n",
    "    filter(str_detect(articles_scraped$body,regex('algorithm', ignore_case = T)))\n",
    "\n",
    "nrow(algorithm_data)"
   ]
  },
  {
   "cell_type": "code",
   "execution_count": 31,
   "metadata": {},
   "outputs": [
    {
     "data": {
      "text/html": [
       "1133"
      ],
      "text/latex": [
       "1133"
      ],
      "text/markdown": [
       "1133"
      ],
      "text/plain": [
       "[1] 1133"
      ]
     },
     "metadata": {},
     "output_type": "display_data"
    }
   ],
   "source": [
    "ai_all = bind_rows(ai_all, computer_data, algorithm_data)\n",
    "\n",
    "ai_all = distinct(ai_all)\n",
    "\n",
    "nrow(ai_all)"
   ]
  },
  {
   "cell_type": "code",
   "execution_count": 32,
   "metadata": {},
   "outputs": [],
   "source": [
    "ai_all['length'] <- str_count(ai_all$body, pattern = \" \")\n",
    "\n",
    "#summary(ai_all)"
   ]
  },
  {
   "cell_type": "markdown",
   "metadata": {},
   "source": [
    "The mean length of the articles in this subset is longer than in the overall dataset. The length of articles in the full dataset is 1066 tokens, in this subset, the average length is 1649 tokens."
   ]
  },
  {
   "cell_type": "markdown",
   "metadata": {},
   "source": [
    "For the use of the data, stratified sampling would make sense, so I test here which bins work best.\n",
    "\n",
    "Binning in years:"
   ]
  },
  {
   "cell_type": "code",
   "execution_count": 33,
   "metadata": {},
   "outputs": [
    {
     "data": {
      "text/html": [
       "<ol class=list-inline>\n",
       "\t<li>2014</li>\n",
       "\t<li>2014</li>\n",
       "\t<li>2014</li>\n",
       "\t<li>2015</li>\n",
       "\t<li>2014</li>\n",
       "\t<li>2015</li>\n",
       "</ol>\n",
       "\n",
       "<details>\n",
       "\t<summary style=display:list-item;cursor:pointer>\n",
       "\t\t<strong>Levels</strong>:\n",
       "\t</summary>\n",
       "\t<ol class=list-inline>\n",
       "\t\t<li>'2014'</li>\n",
       "\t\t<li>'2015'</li>\n",
       "\t\t<li>'2016'</li>\n",
       "\t\t<li>'2017'</li>\n",
       "\t</ol>\n",
       "</details>"
      ],
      "text/latex": [
       "\\begin{enumerate*}\n",
       "\\item 2014\n",
       "\\item 2014\n",
       "\\item 2014\n",
       "\\item 2015\n",
       "\\item 2014\n",
       "\\item 2015\n",
       "\\end{enumerate*}\n",
       "\n",
       "\\emph{Levels}: \\begin{enumerate*}\n",
       "\\item '2014'\n",
       "\\item '2015'\n",
       "\\item '2016'\n",
       "\\item '2017'\n",
       "\\end{enumerate*}\n"
      ],
      "text/markdown": [
       "1. 2014\n",
       "2. 2014\n",
       "3. 2014\n",
       "4. 2015\n",
       "5. 2014\n",
       "6. 2015\n",
       "\n",
       "\n",
       "\n",
       "**Levels**: 1. '2014'\n",
       "2. '2015'\n",
       "3. '2016'\n",
       "4. '2017'\n",
       "\n",
       "\n"
      ],
      "text/plain": [
       "[1] 2014 2014 2014 2015 2014 2015\n",
       "Levels: 2014 2015 2016 2017"
      ]
     },
     "metadata": {},
     "output_type": "display_data"
    }
   ],
   "source": [
    "ai_all['year'] <- as.factor(str_sub(ai_all$published_date, start=0, end = 4))\n",
    "\n",
    "head(ai_all$year)"
   ]
  },
  {
   "cell_type": "code",
   "execution_count": 34,
   "metadata": {},
   "outputs": [
    {
     "data": {
      "image/png": "[encoded data removed]",
      "text/plain": [
       "plot without title"
      ]
     },
     "metadata": {},
     "output_type": "display_data"
    }
   ],
   "source": [
    "ggplot(ai_all, aes(x=ai_all$year)) + geom_bar()"
   ]
  },
  {
   "cell_type": "markdown",
   "metadata": {},
   "source": [
    "Binning into months:"
   ]
  },
  {
   "cell_type": "code",
   "execution_count": 35,
   "metadata": {},
   "outputs": [
    {
     "data": {
      "text/html": [
       "<ol class=list-inline>\n",
       "\t<li>2014-08</li>\n",
       "\t<li>2014-08</li>\n",
       "\t<li>2014-09</li>\n",
       "\t<li>2015-01</li>\n",
       "\t<li>2014-12</li>\n",
       "\t<li>2015-01</li>\n",
       "</ol>\n",
       "\n",
       "<details>\n",
       "\t<summary style=display:list-item;cursor:pointer>\n",
       "\t\t<strong>Levels</strong>:\n",
       "\t</summary>\n",
       "\t<ol class=list-inline>\n",
       "\t\t<li>'2014-04'</li>\n",
       "\t\t<li>'2014-05'</li>\n",
       "\t\t<li>'2014-06'</li>\n",
       "\t\t<li>'2014-07'</li>\n",
       "\t\t<li>'2014-08'</li>\n",
       "\t\t<li>'2014-09'</li>\n",
       "\t\t<li>'2014-10'</li>\n",
       "\t\t<li>'2014-11'</li>\n",
       "\t\t<li>'2014-12'</li>\n",
       "\t\t<li>'2015-01'</li>\n",
       "\t\t<li>'2015-02'</li>\n",
       "\t\t<li>'2015-03'</li>\n",
       "\t\t<li>'2015-04'</li>\n",
       "\t\t<li>'2015-05'</li>\n",
       "\t\t<li>'2015-06'</li>\n",
       "\t\t<li>'2015-07'</li>\n",
       "\t\t<li>'2015-08'</li>\n",
       "\t\t<li>'2015-09'</li>\n",
       "\t\t<li>'2015-10'</li>\n",
       "\t\t<li>'2015-11'</li>\n",
       "\t\t<li>'2015-12'</li>\n",
       "\t\t<li>'2016-01'</li>\n",
       "\t\t<li>'2016-02'</li>\n",
       "\t\t<li>'2016-03'</li>\n",
       "\t\t<li>'2016-04'</li>\n",
       "\t\t<li>'2016-05'</li>\n",
       "\t\t<li>'2016-06'</li>\n",
       "\t\t<li>'2016-07'</li>\n",
       "\t\t<li>'2016-08'</li>\n",
       "\t\t<li>'2016-09'</li>\n",
       "\t\t<li>'2016-10'</li>\n",
       "\t\t<li>'2016-11'</li>\n",
       "\t\t<li>'2016-12'</li>\n",
       "\t\t<li>'2017-01'</li>\n",
       "\t\t<li>'2017-02'</li>\n",
       "\t\t<li>'2017-03'</li>\n",
       "\t</ol>\n",
       "</details>"
      ],
      "text/latex": [
       "\\begin{enumerate*}\n",
       "\\item 2014-08\n",
       "\\item 2014-08\n",
       "\\item 2014-09\n",
       "\\item 2015-01\n",
       "\\item 2014-12\n",
       "\\item 2015-01\n",
       "\\end{enumerate*}\n",
       "\n",
       "\\emph{Levels}: \\begin{enumerate*}\n",
       "\\item '2014-04'\n",
       "\\item '2014-05'\n",
       "\\item '2014-06'\n",
       "\\item '2014-07'\n",
       "\\item '2014-08'\n",
       "\\item '2014-09'\n",
       "\\item '2014-10'\n",
       "\\item '2014-11'\n",
       "\\item '2014-12'\n",
       "\\item '2015-01'\n",
       "\\item '2015-02'\n",
       "\\item '2015-03'\n",
       "\\item '2015-04'\n",
       "\\item '2015-05'\n",
       "\\item '2015-06'\n",
       "\\item '2015-07'\n",
       "\\item '2015-08'\n",
       "\\item '2015-09'\n",
       "\\item '2015-10'\n",
       "\\item '2015-11'\n",
       "\\item '2015-12'\n",
       "\\item '2016-01'\n",
       "\\item '2016-02'\n",
       "\\item '2016-03'\n",
       "\\item '2016-04'\n",
       "\\item '2016-05'\n",
       "\\item '2016-06'\n",
       "\\item '2016-07'\n",
       "\\item '2016-08'\n",
       "\\item '2016-09'\n",
       "\\item '2016-10'\n",
       "\\item '2016-11'\n",
       "\\item '2016-12'\n",
       "\\item '2017-01'\n",
       "\\item '2017-02'\n",
       "\\item '2017-03'\n",
       "\\end{enumerate*}\n"
      ],
      "text/markdown": [
       "1. 2014-08\n",
       "2. 2014-08\n",
       "3. 2014-09\n",
       "4. 2015-01\n",
       "5. 2014-12\n",
       "6. 2015-01\n",
       "\n",
       "\n",
       "\n",
       "**Levels**: 1. '2014-04'\n",
       "2. '2014-05'\n",
       "3. '2014-06'\n",
       "4. '2014-07'\n",
       "5. '2014-08'\n",
       "6. '2014-09'\n",
       "7. '2014-10'\n",
       "8. '2014-11'\n",
       "9. '2014-12'\n",
       "10. '2015-01'\n",
       "11. '2015-02'\n",
       "12. '2015-03'\n",
       "13. '2015-04'\n",
       "14. '2015-05'\n",
       "15. '2015-06'\n",
       "16. '2015-07'\n",
       "17. '2015-08'\n",
       "18. '2015-09'\n",
       "19. '2015-10'\n",
       "20. '2015-11'\n",
       "21. '2015-12'\n",
       "22. '2016-01'\n",
       "23. '2016-02'\n",
       "24. '2016-03'\n",
       "25. '2016-04'\n",
       "26. '2016-05'\n",
       "27. '2016-06'\n",
       "28. '2016-07'\n",
       "29. '2016-08'\n",
       "30. '2016-09'\n",
       "31. '2016-10'\n",
       "32. '2016-11'\n",
       "33. '2016-12'\n",
       "34. '2017-01'\n",
       "35. '2017-02'\n",
       "36. '2017-03'\n",
       "\n",
       "\n"
      ],
      "text/plain": [
       "[1] 2014-08 2014-08 2014-09 2015-01 2014-12 2015-01\n",
       "36 Levels: 2014-04 2014-05 2014-06 2014-07 2014-08 2014-09 2014-10 ... 2017-03"
      ]
     },
     "metadata": {},
     "output_type": "display_data"
    }
   ],
   "source": [
    "ai_all['month'] <- as.factor(str_sub(ai_all$published_date, start=0, end = 7))\n",
    "\n",
    "head(ai_all$month)"
   ]
  },
  {
   "cell_type": "code",
   "execution_count": 36,
   "metadata": {},
   "outputs": [
    {
     "data": {
      "image/png": "[encoded data removed]",
      "text/plain": [
       "plot without title"
      ]
     },
     "metadata": {},
     "output_type": "display_data"
    }
   ],
   "source": [
    "ggplot(ai_all, aes(x=ai_all$month)) + geom_bar()"
   ]
  },
  {
   "cell_type": "markdown",
   "metadata": {},
   "source": [
    "There are only three months that have ten or less than ten texts, so using the months for stratified sampling seems to be a really good idea."
   ]
  },
  {
   "cell_type": "code",
   "execution_count": 52,
   "metadata": {},
   "outputs": [],
   "source": [
    "write.csv(ai_all, 'computer_subset.csv')"
   ]
  },
  {
   "cell_type": "code",
   "execution_count": null,
   "metadata": {},
   "outputs": [],
   "source": []
  }
 ],
 "metadata": {
  "kernelspec": {
   "display_name": "R",
   "language": "R",
   "name": "ir"
  },
  "language_info": {
   "codemirror_mode": "r",
   "file_extension": ".r",
   "mimetype": "text/x-r-source",
   "name": "R",
   "pygments_lexer": "r",
   "version": "3.6.1"
  }
 },
 "nbformat": 4,
 "nbformat_minor": 2
}
